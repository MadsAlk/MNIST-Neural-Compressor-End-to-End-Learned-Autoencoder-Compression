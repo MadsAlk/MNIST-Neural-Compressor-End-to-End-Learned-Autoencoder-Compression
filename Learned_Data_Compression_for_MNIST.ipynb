{
  "nbformat": 4,
  "nbformat_minor": 0,
  "metadata": {
    "colab": {
      "provenance": []
    },
    "kernelspec": {
      "name": "python3",
      "display_name": "Python 3"
    },
    "language_info": {
      "name": "python"
    }
  },
  "cells": [
    {
      "cell_type": "markdown",
      "source": [
        "# MNIST-Neural-Compressor-End-to-End-Learned-Autoencoder-Compression"
      ],
      "metadata": {
        "id": "f9x2HUz5iNR8"
      }
    },
    {
      "cell_type": "code",
      "source": [
        "# !pip uninstall -y tensorflow tensorflow_compression tensorflow_probability\n",
        "\n",
        "!pip install numpy==1.23.5\n",
        "!pip install tensorflow\n",
        "!pip install tensorflow_compression\n",
        "!pip install tensorflow_probability\n",
        "\n",
        "!pip show tensorflow\n",
        "!pip show tensorflow_compression\n",
        "!pip show tensorflow_probability\n",
        "\n",
        "import matplotlib.pyplot as plt\n",
        "import tensorflow as tf\n",
        "import tensorflow_compression as tfc\n",
        "import tensorflow_datasets as tfds"
      ],
      "metadata": {
        "id": "Cp_Po3tOhGWr"
      },
      "execution_count": 1,
      "outputs": []
    },
    {
      "cell_type": "markdown",
      "source": [
        "Model Architecture\n",
        "We define an autoencoder-style neural network with:\n",
        "- An **encoder** that compresses images into latent vectors\n",
        "- A **decoder** that reconstructs images from latent vectors  \n",
        "- A **NoisyLogistic prior** to model the latent space distribution"
      ],
      "metadata": {
        "id": "44cfBhN0gwY8"
      }
    },
    {
      "cell_type": "code",
      "execution_count": 12,
      "metadata": {
        "collapsed": true,
        "id": "ZdzvzVaXg_uZ"
      },
      "outputs": [],
      "source": [
        "import matplotlib.pyplot as plt\n",
        "import numpy as np\n",
        "\n",
        "# Custom Model Configuration\n",
        "LATENT_DIMS = 32  # Increased latent dimensions for better reconstruction\n",
        "TRAIN_EPOCHS = 10  # Reduced epochs for faster training\n",
        "\n",
        "# Define Model Architecture\n",
        "def create_encoder(latent_dims):\n",
        "    \"\"\"Custom encoder with Swish activations and BatchNorm\"\"\"\n",
        "    return tf.keras.Sequential([\n",
        "        tf.keras.layers.Conv2D(32, 5, strides=2, padding='same', activation='swish'),\n",
        "        tf.keras.layers.BatchNormalization(),\n",
        "        tf.keras.layers.Conv2D(64, 5, strides=2, padding='same', activation='swish'),\n",
        "        tf.keras.layers.BatchNormalization(),\n",
        "        tf.keras.layers.Flatten(),\n",
        "        tf.keras.layers.Dense(512, activation='swish'),\n",
        "        tf.keras.layers.Dense(latent_dims)\n",
        "    ], name='encoder')\n",
        "\n",
        "def create_decoder():\n",
        "    \"\"\"Custom decoder with residual connections\"\"\"\n",
        "    return tf.keras.Sequential([\n",
        "        tf.keras.layers.Dense(512, activation='swish'),\n",
        "        tf.keras.layers.Dense(7*7*64, activation='swish'),\n",
        "        tf.keras.layers.Reshape((7, 7, 64)),\n",
        "        tf.keras.layers.Conv2DTranspose(32, 5, strides=2, padding='same', activation='swish'),\n",
        "        tf.keras.layers.Conv2DTranspose(1, 5, strides=2, padding='same', activation='sigmoid')\n",
        "    ], name='decoder')\n",
        "\n",
        "# Compression Model Class\n",
        "class CompressionModel(tf.keras.Model):\n",
        "    def __init__(self, latent_dims):\n",
        "        super().__init__()\n",
        "        self.encoder = create_encoder(latent_dims)\n",
        "        self.decoder = create_decoder()\n",
        "        self.prior_params = tf.Variable(tf.zeros((latent_dims,)))\n",
        "\n",
        "    @property\n",
        "    def prior(self):\n",
        "        return tfc.NoisyLogistic(loc=0., scale=tf.exp(self.prior_params))\n",
        "\n",
        "    def call(self, images, training=False):\n",
        "        # Normalization\n",
        "        x = tf.cast(images, tf.float32) / 255.\n",
        "        x = tf.reshape(x, [-1, 28, 28, 1])\n",
        "\n",
        "        # Encoding and entropy estimation\n",
        "        y = self.encoder(x)\n",
        "        entropy_model = tfc.ContinuousBatchedEntropyModel(\n",
        "            self.prior, coding_rank=1, compression=False)\n",
        "        y_perturbed, rate = entropy_model(y, training=training)\n",
        "\n",
        "        # Decoding\n",
        "        x_recon = self.decoder(y_perturbed)\n",
        "\n",
        "        # Metrics\n",
        "        distortion = tf.reduce_mean(tf.abs(x - x_recon))\n",
        "        return {'rate': tf.reduce_mean(rate), 'distortion': distortion}\n"
      ]
    },
    {
      "cell_type": "markdown",
      "source": [
        "Training Setup\n",
        "The model is compiled with:\n",
        "- Rate and distortion loss components\n",
        "- Adam optimizer (learning rate=1e-3)\n",
        "- Custom loss weights controlled by λ parameter\n",
        "- Special handling for the entropy model's training behavior\n",
        "\n",
        "Data Preparation\n",
        "MNIST dataset is loaded and preprocessed:\n",
        "- Normalized to [0,1] range\n",
        "- Batched (size=128) and prefetched\n",
        "- Split into train/test sets\n",
        "- Dummy targets created for unsupervised learning"
      ],
      "metadata": {
        "id": "du-YaE3ig5RX"
      }
    },
    {
      "cell_type": "code",
      "source": [
        "# Training Setup\n",
        "def train_model(compression_lambda=2000):\n",
        "    model = CompressionModel(LATENT_DIMS)\n",
        "\n",
        "    # Define unique lambda functions with different argument names\n",
        "    def rate_loss(_, rate): return rate\n",
        "    def distortion_loss(_, distortion): return distortion\n",
        "\n",
        "    model.compile(\n",
        "        optimizer=tf.keras.optimizers.Adam(1e-3),\n",
        "        loss={'rate': rate_loss, 'distortion': distortion_loss},\n",
        "        metrics={'rate': rate_loss, 'distortion': distortion_loss},\n",
        "        loss_weights={'rate': 1.0, 'distortion': compression_lambda}\n",
        "    )\n",
        "\n",
        "    # Load and prepare dataset - Fixed data loading\n",
        "    (train_ds, test_ds) = tfds.load('mnist',\n",
        "                                  split=['train', 'test'],\n",
        "                                  as_supervised=True,\n",
        "                                  shuffle_files=True)\n",
        "\n",
        "    # Create proper targets dictionary\n",
        "    def prepare_data(x, y):\n",
        "        return x, {'rate': 0., 'distortion': 0.}\n",
        "\n",
        "    train_ds = train_ds.map(prepare_data).batch(128).prefetch(8)\n",
        "    test_ds = test_ds.map(prepare_data).batch(128).cache()\n",
        "\n",
        "    # Train\n",
        "    history = model.fit(train_ds,\n",
        "                       epochs=TRAIN_EPOCHS,\n",
        "                       validation_data=test_ds,\n",
        "                       verbose=1)\n",
        "    return model, history"
      ],
      "metadata": {
        "id": "4plJVE3tekmK"
      },
      "execution_count": null,
      "outputs": []
    },
    {
      "cell_type": "markdown",
      "source": [
        "Compression Pipeline\n",
        "Post-training we create:\n",
        "- A **compressor**: encodes images to binary strings\n",
        "- A **decompressor**: reconstructs images from binaries\n",
        "- Bitrate estimation using log probabilities\n",
        "- Visual comparison of original vs reconstructed digits"
      ],
      "metadata": {
        "id": "hBscRWbWg-HG"
      }
    },
    {
      "cell_type": "code",
      "source": [
        "# Compression Utilities\n",
        "class Compressor(tf.keras.Model):\n",
        "    def __init__(self, encoder, entropy_model):\n",
        "        super().__init__()\n",
        "        self.encoder = encoder\n",
        "        self.entropy_model = entropy_model\n",
        "\n",
        "    def call(self, images):\n",
        "        x = tf.cast(images, tf.float32) / 255.\n",
        "        y = self.encoder(x)\n",
        "        # Compress and calculate bit lengths using log probabilities\n",
        "        compressed_strings = self.entropy_model.compress(y)\n",
        "\n",
        "        # Calculate approximate bit lengths using negative log probabilities\n",
        "        log_probs = self.entropy_model.prior.log_prob(y)\n",
        "        bit_sizes = -tf.reduce_sum(log_probs, axis=1) / tf.math.log(2.0)\n",
        "\n",
        "        return compressed_strings, bit_sizes\n",
        "\n",
        "class Decompressor(tf.keras.Model):\n",
        "    def __init__(self, decoder, entropy_model):\n",
        "        super().__init__()\n",
        "        self.decoder = decoder\n",
        "        self.entropy_model = entropy_model\n",
        "\n",
        "    def call(self, strings):\n",
        "        y_hat = self.entropy_model.decompress(strings, ())\n",
        "        return self.decoder(y_hat) * 255.\n",
        "\n",
        "# Visualization Functions\n",
        "def display_comparison(originals, compressed, bit_sizes):\n",
        "    plt.figure(figsize=(10, 5))\n",
        "    for i in range(4):\n",
        "        # Original\n",
        "        plt.subplot(2, 4, i+1)\n",
        "        plt.imshow(originals[i].numpy().squeeze(), cmap='gray')\n",
        "        plt.title(f'Original {i+1}')\n",
        "        plt.axis('off')\n",
        "\n",
        "        # Reconstructed\n",
        "        plt.subplot(2, 4, i+5)\n",
        "        plt.imshow(tf.squeeze(compressed[i]), cmap='gray')\n",
        "        plt.title(f\"{bit_sizes[i]:.1f} bits\")\n",
        "        plt.axis('off')\n",
        "    plt.tight_layout()\n",
        "    plt.show()"
      ],
      "metadata": {
        "id": "lGdOoINmb9vb"
      },
      "execution_count": 8,
      "outputs": []
    },
    {
      "cell_type": "markdown",
      "source": [
        "Generative Mode\n",
        "The decoder can generate novel digits by:\n",
        "- Feeding random bit strings\n",
        "- Sampling from the learned latent space\n",
        "- Producing MNIST-like images without original inputs\n",
        "- Showing the model's learned representation of digits"
      ],
      "metadata": {
        "id": "aAOA6Lq5hVWM"
      }
    },
    {
      "cell_type": "code",
      "source": [
        "if __name__ == \"__main__\":\n",
        "    # Train model\n",
        "    # model, history = train_model(compression_lambda=1500)\n",
        "\n",
        "    # Create codec\n",
        "    entropy_model = tfc.ContinuousBatchedEntropyModel(\n",
        "        model.prior, coding_rank=1, compression=True)\n",
        "    compressor = Compressor(model.encoder, entropy_model)\n",
        "    decompressor = Decompressor(model.decoder, entropy_model)\n",
        "\n",
        "    # Test compression\n",
        "    test_ds = tfds.load('mnist', split='test', as_supervised=True)\n",
        "    sample_images = next(iter(test_ds.shuffle(1024).batch(4)))[0]\n",
        "\n",
        "    # Get compressed strings and their approximate bit lengths\n",
        "    compressed_strings, bit_sizes = compressor(sample_images)\n",
        "\n",
        "    # Decompress\n",
        "    reconstructions = decompressor(compressed_strings)\n",
        "\n",
        "    # Display results (convert bit_sizes to numpy for visualization)\n",
        "    display_comparison(sample_images, reconstructions, bit_sizes.numpy())"
      ],
      "metadata": {
        "colab": {
          "base_uri": "https://localhost:8080/",
          "height": 510
        },
        "id": "vrXWgPWfb3l7",
        "outputId": "5e434a1d-3c85-4557-c7bf-4a9f542c407a"
      },
      "execution_count": 17,
      "outputs": [
        {
          "output_type": "display_data",
          "data": {
            "text/plain": [
              "<Figure size 1000x500 with 8 Axes>"
            ],
            "image/png": "[encoded data removed]"
          },
          "metadata": {}
        }
      ]
    }
  ]
}